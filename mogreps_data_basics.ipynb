{
 "cells": [
  {
   "cell_type": "markdown",
   "metadata": {},
   "source": [
    "Met Office MOGREPS data\n",
    "=============\n",
    "\n",
    "The Met Office has made data from its world leading MOGPREPS weather model available for research purposes. In this page, we'll go over the basics of how to download the data, how you can look at it, and what it means.\n",
    "\n",
    "Data from two models is available:\n",
    "\n",
    "1. Mogreps UK: a high resolution weather forecast covering the UK, and\n",
    "1. Mogreps G: a global weather forecast.\n",
    "\n",
    "Amazon Web Services are kindly hosting this data for free as part of their Open Data Initiative.\n",
    "\n",
    "## How is the data structured?\n",
    "Our weather forecast models predict many weather parameters, such as air temperature, humidity or rainfall. These are predicted for every point on a regular grid, that is, as a function of latitude, longitude, and (when appropriate) altitude.\n",
    "\n",
    "With the advent of our latest supercomputer, we now regularly run \"ensemble forecasts\". This means that instead of starting one model run now to predict tomorrow, we start many, purturbing the intial parameters to give several possible futures (or *realisations*). The spread of these different realisations gives an indication of the uncertainty of the forecast, and can be very powerful information.\n",
    "\n",
    "Each forecast point also has several measures of time. Firstly, `time` indicates the real world time that the data is forecast for. Secondly, `reference_time` is the time that the forecast was started from i.e. the 0th `time` point. Finally, `forecast_period` is the difference between the two i.e. the number of hours that have elapsed since the start of the forecast.\n",
    "\n",
    "## Downloading data\n",
    "Here, we'll show you a simple way to download files using Python. The data is stored in AWS S3 buckets hosted in the eu-west-2 region, named `mogreps-uk` and `mogreps-g`. If that doesn't mean anything to you, don't worry - have a look at the Python functions below.\n",
    "\n",
    "`make_data_object_name` takes infomation about the data you are looking for and constructs it into a data object name (you can think of this as a file name). We'll go into what things like forecast_period and realization are in a minute. `download data` then saves this object to the same directory as your notebook. "
   ]
  },
  {
   "cell_type": "code",
   "execution_count": 1,
   "metadata": {
    "collapsed": true
   },
   "outputs": [],
   "source": [
    "import urllib.request\n",
    "\n",
    "def make_data_object_name(dataset_name, year, month, day, hour, forecast_period, realization):\n",
    "    template_string = \"prods_op_{}_{:02d}{:02d}{:02d}_{:02d}_{:02d}_{:03d}.nc\"\n",
    "    return template_string.format(dataset_name, year, month, day, hour, forecast_period, realization)\n",
    "\n",
    "def download_data_object(dataset_name, data_object_name):\n",
    "    url = \"https://s3.eu-west-2.amazonaws.com/\" + dataset_name + \"/\" + data_object_name\n",
    "    urllib.request.urlretrieve(url, data_object_name) # save in this directory with same name"
   ]
  },
  {
   "cell_type": "markdown",
   "metadata": {},
   "source": [
    "Note that you can also use Python modules such as Boto to list, filter and retrieve these files.\n",
    "\n",
    "We'll use these functions to download one data object."
   ]
  },
  {
   "cell_type": "code",
   "execution_count": 2,
   "metadata": {
    "collapsed": false
   },
   "outputs": [],
   "source": [
    "obj_name = make_data_object_name('mogreps-uk', 2013, 1, 1, 3, 0, 3)\n",
    "download_data_object('mogreps-uk', obj_name)"
   ]
  },
  {
   "cell_type": "markdown",
   "metadata": {},
   "source": [
    "and here is is."
   ]
  },
  {
   "cell_type": "code",
   "execution_count": 3,
   "metadata": {
    "collapsed": false
   },
   "outputs": [
    {
     "name": "stdout",
     "output_type": "stream",
     "text": [
      "-rw-r--r-- 1 root root 23M Jun 16 15:14 prods_op_mogreps-uk_20130101_03_00_003.nc\r\n"
     ]
    }
   ],
   "source": [
    "!ls -ltrh {obj_name}"
   ]
  },
  {
   "cell_type": "markdown",
   "metadata": {},
   "source": [
    "## Loading Data\n",
    "\n",
    "This data is in NetCDF format, which is a type of the widely used HDF format. You can use any compatible tools, but we recommend the Met Office's Iris Python module. First of all, let's make sure we've got Iris instaled using Conda."
   ]
  },
  {
   "cell_type": "code",
   "execution_count": 4,
   "metadata": {
    "collapsed": false
   },
   "outputs": [
    {
     "name": "stdout",
     "output_type": "stream",
     "text": [
      "Fetching package metadata ...........\n",
      "Solving package specifications: .\n",
      "\n",
      "# All requested packages already installed.\n",
      "# packages in environment at /opt/conda:\n",
      "#\n",
      "iris                      1.10.dev1                py35_0    scitools\n"
     ]
    }
   ],
   "source": [
    "!conda install -y -c scitools iris"
   ]
  },
  {
   "cell_type": "markdown",
   "metadata": {},
   "source": [
    "Now let's load the file we just downloaded"
   ]
  },
  {
   "cell_type": "code",
   "execution_count": 5,
   "metadata": {
    "collapsed": false
   },
   "outputs": [
    {
     "name": "stderr",
     "output_type": "stream",
     "text": [
      "/opt/conda/lib/python3.5/site-packages/iris/fileformats/cf.py:1140: IrisDeprecation: NetCDF default loading behaviour currently does not expose variables which define reference surfaces for dimensionless vertical coordinates as independent Cubes. This behaviour is deprecated in favour of automatic promotion to Cubes. To switch to the new behaviour, set iris.FUTURE.netcdf_promote to True.\n",
      "  warn_deprecated(msg)\n"
     ]
    },
    {
     "name": "stdout",
     "output_type": "stream",
     "text": [
      "0: cloud_base_altitude_assuming_only_consider_cloud_area_fraction_greater_than_2p5_oktas / (kft) (time: 4; grid_latitude: 548; grid_longitude: 421)\n",
      "1: wet_bulb_potential_temperature / (K) (time: 4; pressure: 3; grid_latitude: 548; grid_longitude: 421)\n",
      "2: cloud_area_fraction_assuming_maximum_random_overlap / (1) (time: 4; grid_latitude: 548; grid_longitude: 421)\n",
      "3: wet_bulb_freezing_level_altitude / (m) (time: 3; grid_latitude: 548; grid_longitude: 421)\n",
      "4: stratiform_snowfall_rate / (kg m-2 s-1) (time: 36; grid_latitude: 548; grid_longitude: 421)\n",
      "5: air_pressure_at_sea_level / (Pa)    (time: 4; grid_latitude: 548; grid_longitude: 421)\n",
      "6: air_temperature / (K)               (time: 4; grid_latitude: 548; grid_longitude: 421)\n",
      "7: air_temperature / (K)               (time: 4; pressure: 2; grid_latitude: 548; grid_longitude: 421)\n",
      "8: air_temperature / (K)               (time: 3; grid_latitude: 548; grid_longitude: 421)\n",
      "9: air_temperature / (K)               (time: 3; grid_latitude: 548; grid_longitude: 421)\n",
      "10: dew_point_temperature / (K)         (time: 3; grid_latitude: 548; grid_longitude: 421)\n",
      "11: fog_area_fraction / (1)             (time: 4; grid_latitude: 548; grid_longitude: 421)\n",
      "12: geopotential_height / (m)           (time: 4; pressure: 3; grid_latitude: 548; grid_longitude: 421)\n",
      "13: high_type_cloud_area_fraction / (1) (time: 3; grid_latitude: 548; grid_longitude: 421)\n",
      "14: low_type_cloud_area_fraction / (1)  (time: 3; grid_latitude: 548; grid_longitude: 421)\n",
      "15: medium_type_cloud_area_fraction / (1) (time: 3; grid_latitude: 548; grid_longitude: 421)\n",
      "16: relative_humidity / (%)             (time: 4; pressure: 2; grid_latitude: 548; grid_longitude: 421)\n",
      "17: relative_humidity / (%)             (time: 4; grid_latitude: 548; grid_longitude: 421)\n",
      "18: specific_humidity / (1)             (time: 3; grid_latitude: 548; grid_longitude: 421)\n",
      "19: stratiform_rainfall_amount / (kg m-2) (-- : 3; grid_latitude: 548; grid_longitude: 421)\n",
      "20: stratiform_rainfall_rate / (kg m-2 s-1) (time: 36; grid_latitude: 548; grid_longitude: 421)\n",
      "21: stratiform_snowfall_amount / (kg m-2) (-- : 3; grid_latitude: 548; grid_longitude: 421)\n",
      "22: surface_air_pressure / (Pa)         (time: 4; grid_latitude: 548; grid_longitude: 421)\n",
      "23: surface_altitude / (m)              (grid_latitude: 548; grid_longitude: 421)\n",
      "24: surface_downward_eastward_stress / (Pa) (time: 3; grid_latitude: 548; grid_longitude: 421)\n",
      "25: surface_downward_northward_stress / (Pa) (time: 3; grid_latitude: 547; grid_longitude: 421)\n",
      "26: surface_downwelling_longwave_flux / (W m-2) (time: 3; grid_latitude: 548; grid_longitude: 421)\n",
      "27: surface_downwelling_shortwave_flux_in_air / (W m-2) (time: 3; grid_latitude: 548; grid_longitude: 421)\n",
      "28: visibility_in_air / (m)             (time: 4; grid_latitude: 548; grid_longitude: 421)\n",
      "29: wind_speed_of_gust / (m s-1)        (time: 3; grid_latitude: 548; grid_longitude: 421)\n",
      "30: x_wind / (m s-1)                    (time: 4; grid_latitude: 547; grid_longitude: 421)\n",
      "31: x_wind / (m s-1)                    (time: 4; grid_latitude: 548; grid_longitude: 421)\n",
      "32: x_wind / (m s-1)                    (time: 4; pressure: 2; grid_latitude: 547; grid_longitude: 421)\n",
      "33: y_wind / (m s-1)                    (time: 4; grid_latitude: 547; grid_longitude: 421)\n",
      "34: y_wind / (m s-1)                    (time: 4; grid_latitude: 547; grid_longitude: 421)\n",
      "35: y_wind / (m s-1)                    (time: 4; pressure: 2; grid_latitude: 547; grid_longitude: 421)\n"
     ]
    }
   ],
   "source": [
    "import iris\n",
    "mydata = iris.load(\"./prods_op_mogreps-uk_20130101_03_00_003.nc\")\n",
    "\n",
    "print(mydata)"
   ]
  },
  {
   "cell_type": "markdown",
   "metadata": {},
   "source": [
    "You can see here that the object we have loaded from our file contains many different meteorological perameters.\n",
    "\n",
    "We can find our more information about a particuarl parameter..."
   ]
  },
  {
   "cell_type": "code",
   "execution_count": 6,
   "metadata": {
    "collapsed": false
   },
   "outputs": [
    {
     "name": "stdout",
     "output_type": "stream",
     "text": [
      "air_temperature / (K)               (time: 3; grid_latitude: 548; grid_longitude: 421)\n",
      "     Dimension coordinates:\n",
      "          time                           x                 -                    -\n",
      "          grid_latitude                  -                 x                    -\n",
      "          grid_longitude                 -                 -                    x\n",
      "     Auxiliary coordinates:\n",
      "          forecast_period                x                 -                    -\n",
      "     Scalar coordinates:\n",
      "          forecast_reference_time: 2013-01-01 03:00:00\n",
      "          height: 1.5 m\n",
      "     Attributes:\n",
      "          Conventions: CF-1.5\n",
      "          STASH: m01s03i236\n",
      "          source: Data from Met Office Unified Model\n",
      "          um_version: 7.9\n",
      "     Cell methods:\n",
      "          maximum: time_3 (1 hour)\n"
     ]
    }
   ],
   "source": [
    "surface_temp = mydata[8]\n",
    "print(surface_temp)"
   ]
  },
  {
   "cell_type": "markdown",
   "metadata": {},
   "source": [
    "...access the underlying data..."
   ]
  },
  {
   "cell_type": "code",
   "execution_count": 7,
   "metadata": {
    "collapsed": false
   },
   "outputs": [
    {
     "data": {
      "text/plain": [
       "array([[[ 284.25 ,  284.25 ,  284.25 , ...,  281.   ,  281.125,  281.   ],\n",
       "        [ 284.25 ,  284.25 ,  284.25 , ...,  281.125,  281.125,  281.   ],\n",
       "        [ 284.25 ,  284.25 ,  284.25 , ...,  281.125,  281.   ,  281.   ],\n",
       "        ..., \n",
       "        [ 281.125,  281.125,  281.125, ...,  279.25 ,  279.25 ,  279.25 ],\n",
       "        [ 281.125,  281.125,  281.125, ...,  279.25 ,  279.25 ,  279.25 ],\n",
       "        [ 281.125,  281.125,  281.125, ...,  279.25 ,  279.25 ,  279.25 ]],\n",
       "\n",
       "       [[ 284.375,  284.375,  284.375, ...,  281.125,  281.125,  281.125],\n",
       "        [ 284.375,  284.375,  284.375, ...,  281.125,  281.125,  281.   ],\n",
       "        [ 284.375,  284.375,  284.375, ...,  281.25 ,  281.125,  281.   ],\n",
       "        ..., \n",
       "        [ 281.125,  281.125,  281.125, ...,  279.125,  279.125,  279.125],\n",
       "        [ 281.125,  281.125,  281.125, ...,  279.125,  279.125,  279.125],\n",
       "        [ 281.125,  281.125,  281.125, ...,  279.125,  279.125,  279.125]],\n",
       "\n",
       "       [[ 284.375,  284.375,  284.375, ...,  281.25 ,  281.375,  281.25 ],\n",
       "        [ 284.375,  284.375,  284.375, ...,  281.375,  281.375,  281.25 ],\n",
       "        [ 284.375,  284.375,  284.375, ...,  281.375,  281.25 ,  281.25 ],\n",
       "        ..., \n",
       "        [ 281.   ,  281.   ,  281.   , ...,  279.125,  279.   ,  279.   ],\n",
       "        [ 281.   ,  281.   ,  281.   , ...,  279.125,  279.125,  279.   ],\n",
       "        [ 281.   ,  281.   ,  280.875, ...,  279.125,  279.125,  279.   ]]], dtype=float32)"
      ]
     },
     "execution_count": 7,
     "metadata": {},
     "output_type": "execute_result"
    }
   ],
   "source": [
    "surface_temp.data"
   ]
  },
  {
   "cell_type": "markdown",
   "metadata": {},
   "source": [
    "...and make plots."
   ]
  },
  {
   "cell_type": "code",
   "execution_count": 8,
   "metadata": {
    "collapsed": false
   },
   "outputs": [
    {
     "name": "stderr",
     "output_type": "stream",
     "text": [
      "/opt/conda/lib/python3.5/site-packages/iris/coords.py:802: UserWarning: Coordinate 'grid_longitude' is not bounded, guessing contiguous bounds.\n",
      "  'contiguous bounds.'.format(self.name()))\n",
      "/opt/conda/lib/python3.5/site-packages/iris/coords.py:802: UserWarning: Coordinate 'grid_latitude' is not bounded, guessing contiguous bounds.\n",
      "  'contiguous bounds.'.format(self.name()))\n"
     ]
    },
    {
     "data": {
      "text/plain": [
       "<cartopy.mpl.feature_artist.FeatureArtist at 0x7fef9f1232e8>"
      ]
     },
     "execution_count": 8,
     "metadata": {},
     "output_type": "execute_result"
    },
    {
     "data": {
      "image/png": "[encoded data removed]",
      "text/plain": [
       "<matplotlib.figure.Figure at 0x7fefd91cd128>"
      ]
     },
     "metadata": {},
     "output_type": "display_data"
    }
   ],
   "source": [
    "%matplotlib inline\n",
    "\n",
    "import matplotlib.pyplot as plt\n",
    "import iris.quickplot as qplt\n",
    "\n",
    "time_slice = surface_temp[0]\n",
    "qplt.pcolormesh(time_slice, cmap='viridis')\n",
    "plt.gca().coastlines()"
   ]
  },
  {
   "cell_type": "markdown",
   "metadata": {},
   "source": [
    "## Finally...\n",
    "\n",
    "We hope you found this page a useful introduction. Please have a look at the data page, where you can find other notebooks covering more advance uses. In particular the Met Office Informatics Lab are working on distributed cloud computing using Iris and Dask.\n",
    "\n",
    "This data is free to use for research purposes only, and not for profit making applications. Any derived products should acknowledge the use of Met Office data. No ongoing level of support is implied and data may be changed or removed without notice."
   ]
  }
 ],
 "metadata": {
  "kernelspec": {
   "display_name": "Python 3",
   "language": "python",
   "name": "python3"
  },
  "language_info": {
   "codemirror_mode": {
    "name": "ipython",
    "version": 3
   },
   "file_extension": ".py",
   "mimetype": "text/x-python",
   "name": "python",
   "nbconvert_exporter": "python",
   "pygments_lexer": "ipython3",
   "version": "3.5.2"
  }
 },
 "nbformat": 4,
 "nbformat_minor": 2
}
